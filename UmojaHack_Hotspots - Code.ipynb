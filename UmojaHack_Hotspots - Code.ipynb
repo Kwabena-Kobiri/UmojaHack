{
 "cells": [
  {
   "cell_type": "markdown",
   "metadata": {
    "colab_type": "text",
    "id": "xKcJuq7bxof_"
   },
   "source": [
    "# NsurommaUoG Team - Zindi UmojaHack Fire Hotspot\n",
    "\n",
    "## Setup\n",
    " \n",
    "The codes below were run on Google Colab: a cloud-based platform for collaboratory works in machine learning and computing.\n",
    "Loading the data for the competition."
   ]
  },
  {
   "cell_type": "code",
   "execution_count": 35,
   "metadata": {
    "colab": {
     "base_uri": "https://localhost:8080/",
     "height": 34
    },
    "colab_type": "code",
    "id": "cJWw73EFZS7N",
    "outputId": "eb0d6310-43cb-43cb-81a5-13bc03393ce6"
   },
   "outputs": [
    {
     "name": "stdout",
     "output_type": "stream",
     "text": [
      "Mounted at /content/drive\n"
     ]
    }
   ],
   "source": [
    "from google.colab import drive\n",
    "drive.mount('/content/drive', force_remount=True)"
   ]
  },
  {
   "cell_type": "code",
   "execution_count": 0,
   "metadata": {
    "colab": {},
    "colab_type": "code",
    "id": "2lLzfdilxfsY"
   },
   "outputs": [],
   "source": [
    "import pandas as pd\n",
    "from sklearn.linear_model import RidgeCV\n",
    "from sklearn.ensemble import RandomForestRegressor\n",
    "from sklearn.metrics import mean_squared_error, r2_score\n",
    "from matplotlib import pyplot as plt\n",
    "import seaborn as sns"
   ]
  },
  {
   "cell_type": "code",
   "execution_count": 37,
   "metadata": {
    "colab": {
     "base_uri": "https://localhost:8080/",
     "height": 534
    },
    "colab_type": "code",
    "id": "uaQM7lJHxRoe",
    "outputId": "19041442-3e35-4d10-9c41-ea23b14bf1c2"
   },
   "outputs": [
    {
     "data": {
      "text/html": [
       "<div>\n",
       "<style scoped>\n",
       "    .dataframe tbody tr th:only-of-type {\n",
       "        vertical-align: middle;\n",
       "    }\n",
       "\n",
       "    .dataframe tbody tr th {\n",
       "        vertical-align: top;\n",
       "    }\n",
       "\n",
       "    .dataframe thead th {\n",
       "        text-align: right;\n",
       "    }\n",
       "</style>\n",
       "<table border=\"1\" class=\"dataframe\">\n",
       "  <thead>\n",
       "    <tr style=\"text-align: right;\">\n",
       "      <th></th>\n",
       "      <th>ID</th>\n",
       "      <th>area</th>\n",
       "      <th>date</th>\n",
       "      <th>lat</th>\n",
       "      <th>lon</th>\n",
       "      <th>burn_area</th>\n",
       "      <th>climate_aet</th>\n",
       "      <th>climate_def</th>\n",
       "      <th>climate_pdsi</th>\n",
       "      <th>climate_pet</th>\n",
       "      <th>climate_pr</th>\n",
       "      <th>climate_ro</th>\n",
       "      <th>climate_soil</th>\n",
       "      <th>climate_srad</th>\n",
       "      <th>climate_swe</th>\n",
       "      <th>climate_tmmn</th>\n",
       "      <th>climate_tmmx</th>\n",
       "      <th>climate_vap</th>\n",
       "      <th>climate_vpd</th>\n",
       "      <th>climate_vs</th>\n",
       "      <th>elevation</th>\n",
       "      <th>landcover_0</th>\n",
       "      <th>landcover_1</th>\n",
       "      <th>landcover_2</th>\n",
       "      <th>landcover_3</th>\n",
       "      <th>landcover_4</th>\n",
       "      <th>landcover_5</th>\n",
       "      <th>landcover_6</th>\n",
       "      <th>landcover_7</th>\n",
       "      <th>landcover_8</th>\n",
       "      <th>population_density</th>\n",
       "      <th>precipitation</th>\n",
       "    </tr>\n",
       "  </thead>\n",
       "  <tbody>\n",
       "    <tr>\n",
       "      <th>0</th>\n",
       "      <td>0_2000-04-01</td>\n",
       "      <td>0</td>\n",
       "      <td>2000-04-01</td>\n",
       "      <td>25.447</td>\n",
       "      <td>5.296</td>\n",
       "      <td>0.003688</td>\n",
       "      <td>1250.622712</td>\n",
       "      <td>0.0</td>\n",
       "      <td>-178.916305</td>\n",
       "      <td>1250.622712</td>\n",
       "      <td>158.387765</td>\n",
       "      <td>8.000000</td>\n",
       "      <td>498.913776</td>\n",
       "      <td>2143.430034</td>\n",
       "      <td>0.0</td>\n",
       "      <td>206.935453</td>\n",
       "      <td>323.873675</td>\n",
       "      <td>2508.795159</td>\n",
       "      <td>115.989282</td>\n",
       "      <td>129.825024</td>\n",
       "      <td>590.564102</td>\n",
       "      <td>0.0</td>\n",
       "      <td>0.0</td>\n",
       "      <td>0.350169</td>\n",
       "      <td>0.0</td>\n",
       "      <td>0.649524</td>\n",
       "      <td>0.0</td>\n",
       "      <td>0.000307</td>\n",
       "      <td>0.0</td>\n",
       "      <td>0.0</td>\n",
       "      <td>2.214262</td>\n",
       "      <td>0.198996</td>\n",
       "    </tr>\n",
       "    <tr>\n",
       "      <th>1</th>\n",
       "      <td>1_2000-04-01</td>\n",
       "      <td>1</td>\n",
       "      <td>2000-04-01</td>\n",
       "      <td>25.669</td>\n",
       "      <td>5.293</td>\n",
       "      <td>0.000000</td>\n",
       "      <td>1238.019166</td>\n",
       "      <td>0.0</td>\n",
       "      <td>-150.779947</td>\n",
       "      <td>1238.019166</td>\n",
       "      <td>164.645065</td>\n",
       "      <td>8.104576</td>\n",
       "      <td>590.346191</td>\n",
       "      <td>2132.253953</td>\n",
       "      <td>0.0</td>\n",
       "      <td>204.835170</td>\n",
       "      <td>321.838884</td>\n",
       "      <td>2500.432319</td>\n",
       "      <td>112.619789</td>\n",
       "      <td>129.471370</td>\n",
       "      <td>611.544277</td>\n",
       "      <td>0.0</td>\n",
       "      <td>0.0</td>\n",
       "      <td>0.429049</td>\n",
       "      <td>0.0</td>\n",
       "      <td>0.570644</td>\n",
       "      <td>0.0</td>\n",
       "      <td>0.000307</td>\n",
       "      <td>0.0</td>\n",
       "      <td>0.0</td>\n",
       "      <td>3.833042</td>\n",
       "      <td>0.188071</td>\n",
       "    </tr>\n",
       "    <tr>\n",
       "      <th>2</th>\n",
       "      <td>2_2000-04-01</td>\n",
       "      <td>2</td>\n",
       "      <td>2000-04-01</td>\n",
       "      <td>25.443</td>\n",
       "      <td>5.074</td>\n",
       "      <td>0.000000</td>\n",
       "      <td>1240.449964</td>\n",
       "      <td>0.0</td>\n",
       "      <td>-200.503858</td>\n",
       "      <td>1240.449964</td>\n",
       "      <td>163.699542</td>\n",
       "      <td>8.027851</td>\n",
       "      <td>536.613938</td>\n",
       "      <td>2139.632626</td>\n",
       "      <td>0.0</td>\n",
       "      <td>207.001206</td>\n",
       "      <td>321.846757</td>\n",
       "      <td>2519.259344</td>\n",
       "      <td>112.378707</td>\n",
       "      <td>127.550639</td>\n",
       "      <td>594.188987</td>\n",
       "      <td>0.0</td>\n",
       "      <td>0.0</td>\n",
       "      <td>0.238300</td>\n",
       "      <td>0.0</td>\n",
       "      <td>0.761700</td>\n",
       "      <td>0.0</td>\n",
       "      <td>0.000000</td>\n",
       "      <td>0.0</td>\n",
       "      <td>0.0</td>\n",
       "      <td>1.927303</td>\n",
       "      <td>0.211730</td>\n",
       "    </tr>\n",
       "    <tr>\n",
       "      <th>3</th>\n",
       "      <td>3_2000-04-01</td>\n",
       "      <td>3</td>\n",
       "      <td>2000-04-01</td>\n",
       "      <td>25.665</td>\n",
       "      <td>5.070</td>\n",
       "      <td>0.000000</td>\n",
       "      <td>1229.240077</td>\n",
       "      <td>0.0</td>\n",
       "      <td>-177.011032</td>\n",
       "      <td>1229.240077</td>\n",
       "      <td>172.996043</td>\n",
       "      <td>8.820002</td>\n",
       "      <td>648.271615</td>\n",
       "      <td>2125.206979</td>\n",
       "      <td>0.0</td>\n",
       "      <td>204.127473</td>\n",
       "      <td>319.348123</td>\n",
       "      <td>2493.392613</td>\n",
       "      <td>109.132390</td>\n",
       "      <td>131.703082</td>\n",
       "      <td>645.362481</td>\n",
       "      <td>0.0</td>\n",
       "      <td>0.0</td>\n",
       "      <td>0.488146</td>\n",
       "      <td>0.0</td>\n",
       "      <td>0.511854</td>\n",
       "      <td>0.0</td>\n",
       "      <td>0.000000</td>\n",
       "      <td>0.0</td>\n",
       "      <td>0.0</td>\n",
       "      <td>1.878281</td>\n",
       "      <td>0.215403</td>\n",
       "    </tr>\n",
       "    <tr>\n",
       "      <th>4</th>\n",
       "      <td>4_2000-04-01</td>\n",
       "      <td>4</td>\n",
       "      <td>2000-04-01</td>\n",
       "      <td>25.886</td>\n",
       "      <td>5.067</td>\n",
       "      <td>0.000307</td>\n",
       "      <td>1224.093679</td>\n",
       "      <td>0.0</td>\n",
       "      <td>-153.256111</td>\n",
       "      <td>1224.093679</td>\n",
       "      <td>178.396749</td>\n",
       "      <td>9.000000</td>\n",
       "      <td>719.423119</td>\n",
       "      <td>2114.709813</td>\n",
       "      <td>0.0</td>\n",
       "      <td>203.295123</td>\n",
       "      <td>318.639735</td>\n",
       "      <td>2487.984467</td>\n",
       "      <td>108.161469</td>\n",
       "      <td>133.354846</td>\n",
       "      <td>660.372381</td>\n",
       "      <td>0.0</td>\n",
       "      <td>0.0</td>\n",
       "      <td>0.322243</td>\n",
       "      <td>0.0</td>\n",
       "      <td>0.677757</td>\n",
       "      <td>0.0</td>\n",
       "      <td>0.000000</td>\n",
       "      <td>0.0</td>\n",
       "      <td>0.0</td>\n",
       "      <td>1.968818</td>\n",
       "      <td>0.199975</td>\n",
       "    </tr>\n",
       "    <tr>\n",
       "      <th>5</th>\n",
       "      <td>5_2000-04-01</td>\n",
       "      <td>5</td>\n",
       "      <td>2000-04-01</td>\n",
       "      <td>26.108</td>\n",
       "      <td>5.063</td>\n",
       "      <td>0.000000</td>\n",
       "      <td>1215.375285</td>\n",
       "      <td>0.0</td>\n",
       "      <td>-137.379480</td>\n",
       "      <td>1215.375285</td>\n",
       "      <td>180.862160</td>\n",
       "      <td>9.000000</td>\n",
       "      <td>774.345919</td>\n",
       "      <td>2110.314875</td>\n",
       "      <td>0.0</td>\n",
       "      <td>202.345200</td>\n",
       "      <td>317.789165</td>\n",
       "      <td>2485.139638</td>\n",
       "      <td>106.636462</td>\n",
       "      <td>129.236606</td>\n",
       "      <td>674.138471</td>\n",
       "      <td>0.0</td>\n",
       "      <td>0.0</td>\n",
       "      <td>0.320245</td>\n",
       "      <td>0.0</td>\n",
       "      <td>0.679755</td>\n",
       "      <td>0.0</td>\n",
       "      <td>0.000000</td>\n",
       "      <td>0.0</td>\n",
       "      <td>0.0</td>\n",
       "      <td>1.878478</td>\n",
       "      <td>0.195985</td>\n",
       "    </tr>\n",
       "    <tr>\n",
       "      <th>6</th>\n",
       "      <td>6_2000-04-01</td>\n",
       "      <td>6</td>\n",
       "      <td>2000-04-01</td>\n",
       "      <td>26.329</td>\n",
       "      <td>5.059</td>\n",
       "      <td>0.000000</td>\n",
       "      <td>1226.289328</td>\n",
       "      <td>0.0</td>\n",
       "      <td>-133.668514</td>\n",
       "      <td>1226.289328</td>\n",
       "      <td>181.480607</td>\n",
       "      <td>9.000000</td>\n",
       "      <td>799.837268</td>\n",
       "      <td>2105.426162</td>\n",
       "      <td>0.0</td>\n",
       "      <td>205.498675</td>\n",
       "      <td>321.151048</td>\n",
       "      <td>2508.949651</td>\n",
       "      <td>110.985305</td>\n",
       "      <td>130.967960</td>\n",
       "      <td>635.778284</td>\n",
       "      <td>0.0</td>\n",
       "      <td>0.0</td>\n",
       "      <td>0.320425</td>\n",
       "      <td>0.0</td>\n",
       "      <td>0.679575</td>\n",
       "      <td>0.0</td>\n",
       "      <td>0.000000</td>\n",
       "      <td>0.0</td>\n",
       "      <td>0.0</td>\n",
       "      <td>1.889593</td>\n",
       "      <td>0.213340</td>\n",
       "    </tr>\n",
       "    <tr>\n",
       "      <th>7</th>\n",
       "      <td>7_2000-04-01</td>\n",
       "      <td>7</td>\n",
       "      <td>2000-04-01</td>\n",
       "      <td>26.550</td>\n",
       "      <td>5.055</td>\n",
       "      <td>0.000000</td>\n",
       "      <td>1221.553861</td>\n",
       "      <td>0.0</td>\n",
       "      <td>-136.422001</td>\n",
       "      <td>1221.553861</td>\n",
       "      <td>181.731956</td>\n",
       "      <td>9.000000</td>\n",
       "      <td>830.901885</td>\n",
       "      <td>2109.773748</td>\n",
       "      <td>0.0</td>\n",
       "      <td>203.788159</td>\n",
       "      <td>319.306713</td>\n",
       "      <td>2499.665546</td>\n",
       "      <td>108.117209</td>\n",
       "      <td>130.840399</td>\n",
       "      <td>645.280292</td>\n",
       "      <td>0.0</td>\n",
       "      <td>0.0</td>\n",
       "      <td>0.491759</td>\n",
       "      <td>0.0</td>\n",
       "      <td>0.508241</td>\n",
       "      <td>0.0</td>\n",
       "      <td>0.000000</td>\n",
       "      <td>0.0</td>\n",
       "      <td>0.0</td>\n",
       "      <td>1.898939</td>\n",
       "      <td>0.237743</td>\n",
       "    </tr>\n",
       "    <tr>\n",
       "      <th>8</th>\n",
       "      <td>8_2000-04-01</td>\n",
       "      <td>8</td>\n",
       "      <td>2000-04-01</td>\n",
       "      <td>26.771</td>\n",
       "      <td>5.051</td>\n",
       "      <td>0.000000</td>\n",
       "      <td>1217.142668</td>\n",
       "      <td>0.0</td>\n",
       "      <td>-137.683723</td>\n",
       "      <td>1217.142668</td>\n",
       "      <td>180.821695</td>\n",
       "      <td>9.000963</td>\n",
       "      <td>832.245124</td>\n",
       "      <td>2116.537082</td>\n",
       "      <td>0.0</td>\n",
       "      <td>202.453287</td>\n",
       "      <td>317.916326</td>\n",
       "      <td>2491.688298</td>\n",
       "      <td>106.209006</td>\n",
       "      <td>128.061040</td>\n",
       "      <td>653.298836</td>\n",
       "      <td>0.0</td>\n",
       "      <td>0.0</td>\n",
       "      <td>0.455180</td>\n",
       "      <td>0.0</td>\n",
       "      <td>0.544820</td>\n",
       "      <td>0.0</td>\n",
       "      <td>0.000000</td>\n",
       "      <td>0.0</td>\n",
       "      <td>0.0</td>\n",
       "      <td>1.231987</td>\n",
       "      <td>0.250554</td>\n",
       "    </tr>\n",
       "    <tr>\n",
       "      <th>9</th>\n",
       "      <td>9_2000-04-01</td>\n",
       "      <td>9</td>\n",
       "      <td>2000-04-01</td>\n",
       "      <td>26.991</td>\n",
       "      <td>5.047</td>\n",
       "      <td>0.000000</td>\n",
       "      <td>1226.507805</td>\n",
       "      <td>0.0</td>\n",
       "      <td>-138.340418</td>\n",
       "      <td>1226.507805</td>\n",
       "      <td>179.323367</td>\n",
       "      <td>9.000000</td>\n",
       "      <td>811.208213</td>\n",
       "      <td>2116.226705</td>\n",
       "      <td>0.0</td>\n",
       "      <td>202.999159</td>\n",
       "      <td>318.389769</td>\n",
       "      <td>2485.308718</td>\n",
       "      <td>107.890130</td>\n",
       "      <td>134.738232</td>\n",
       "      <td>662.962592</td>\n",
       "      <td>0.0</td>\n",
       "      <td>0.0</td>\n",
       "      <td>0.533763</td>\n",
       "      <td>0.0</td>\n",
       "      <td>0.466237</td>\n",
       "      <td>0.0</td>\n",
       "      <td>0.000000</td>\n",
       "      <td>0.0</td>\n",
       "      <td>0.0</td>\n",
       "      <td>2.875994</td>\n",
       "      <td>0.246241</td>\n",
       "    </tr>\n",
       "  </tbody>\n",
       "</table>\n",
       "</div>"
      ],
      "text/plain": [
       "             ID  area  ... population_density  precipitation\n",
       "0  0_2000-04-01     0  ...           2.214262       0.198996\n",
       "1  1_2000-04-01     1  ...           3.833042       0.188071\n",
       "2  2_2000-04-01     2  ...           1.927303       0.211730\n",
       "3  3_2000-04-01     3  ...           1.878281       0.215403\n",
       "4  4_2000-04-01     4  ...           1.968818       0.199975\n",
       "5  5_2000-04-01     5  ...           1.878478       0.195985\n",
       "6  6_2000-04-01     6  ...           1.889593       0.213340\n",
       "7  7_2000-04-01     7  ...           1.898939       0.237743\n",
       "8  8_2000-04-01     8  ...           1.231987       0.250554\n",
       "9  9_2000-04-01     9  ...           2.875994       0.246241\n",
       "\n",
       "[10 rows x 32 columns]"
      ]
     },
     "execution_count": 37,
     "metadata": {
      "tags": []
     },
     "output_type": "execute_result"
    }
   ],
   "source": [
    "train = pd.read_csv('/content/drive/My Drive/zindi/train.csv', parse_dates=['date'])\n",
    "train.head(10)"
   ]
  },
  {
   "cell_type": "code",
   "execution_count": 38,
   "metadata": {
    "colab": {
     "base_uri": "https://localhost:8080/",
     "height": 301
    },
    "colab_type": "code",
    "id": "w3xrJKFo_S7U",
    "outputId": "e0b94286-817f-44f6-ebe2-0843b3609409"
   },
   "outputs": [
    {
     "data": {
      "text/html": [
       "<div>\n",
       "<style scoped>\n",
       "    .dataframe tbody tr th:only-of-type {\n",
       "        vertical-align: middle;\n",
       "    }\n",
       "\n",
       "    .dataframe tbody tr th {\n",
       "        vertical-align: top;\n",
       "    }\n",
       "\n",
       "    .dataframe thead th {\n",
       "        text-align: right;\n",
       "    }\n",
       "</style>\n",
       "<table border=\"1\" class=\"dataframe\">\n",
       "  <thead>\n",
       "    <tr style=\"text-align: right;\">\n",
       "      <th></th>\n",
       "      <th>ID</th>\n",
       "      <th>area</th>\n",
       "      <th>date</th>\n",
       "      <th>lat</th>\n",
       "      <th>lon</th>\n",
       "      <th>burn_area</th>\n",
       "      <th>climate_aet</th>\n",
       "      <th>climate_def</th>\n",
       "      <th>climate_pdsi</th>\n",
       "      <th>climate_pet</th>\n",
       "      <th>climate_pr</th>\n",
       "      <th>climate_ro</th>\n",
       "      <th>climate_soil</th>\n",
       "      <th>climate_srad</th>\n",
       "      <th>climate_swe</th>\n",
       "      <th>climate_tmmn</th>\n",
       "      <th>climate_tmmx</th>\n",
       "      <th>climate_vap</th>\n",
       "      <th>climate_vpd</th>\n",
       "      <th>climate_vs</th>\n",
       "      <th>elevation</th>\n",
       "      <th>landcover_0</th>\n",
       "      <th>landcover_1</th>\n",
       "      <th>landcover_2</th>\n",
       "      <th>landcover_3</th>\n",
       "      <th>landcover_4</th>\n",
       "      <th>landcover_5</th>\n",
       "      <th>landcover_6</th>\n",
       "      <th>landcover_7</th>\n",
       "      <th>landcover_8</th>\n",
       "      <th>population_density</th>\n",
       "      <th>precipitation</th>\n",
       "    </tr>\n",
       "  </thead>\n",
       "  <tbody>\n",
       "    <tr>\n",
       "      <th>626639</th>\n",
       "      <td>3816_2013-12-01</td>\n",
       "      <td>3816</td>\n",
       "      <td>2013-12-01</td>\n",
       "      <td>29.075</td>\n",
       "      <td>-13.214</td>\n",
       "      <td>0.0</td>\n",
       "      <td>1135.610247</td>\n",
       "      <td>0.0</td>\n",
       "      <td>147.779270</td>\n",
       "      <td>1135.610247</td>\n",
       "      <td>336.312132</td>\n",
       "      <td>16.817668</td>\n",
       "      <td>3013.975618</td>\n",
       "      <td>1786.251355</td>\n",
       "      <td>0.0</td>\n",
       "      <td>169.001885</td>\n",
       "      <td>269.529682</td>\n",
       "      <td>1988.025324</td>\n",
       "      <td>76.315665</td>\n",
       "      <td>274.408245</td>\n",
       "      <td>1285.573771</td>\n",
       "      <td>0.0</td>\n",
       "      <td>0.0</td>\n",
       "      <td>0.008885</td>\n",
       "      <td>0.0</td>\n",
       "      <td>0.988557</td>\n",
       "      <td>0.0</td>\n",
       "      <td>0.002558</td>\n",
       "      <td>0.0</td>\n",
       "      <td>0.0</td>\n",
       "      <td>14.813819</td>\n",
       "      <td>0.313800</td>\n",
       "    </tr>\n",
       "    <tr>\n",
       "      <th>626640</th>\n",
       "      <td>3817_2013-12-01</td>\n",
       "      <td>3817</td>\n",
       "      <td>2013-12-01</td>\n",
       "      <td>29.298</td>\n",
       "      <td>-13.202</td>\n",
       "      <td>0.0</td>\n",
       "      <td>1143.499063</td>\n",
       "      <td>0.0</td>\n",
       "      <td>130.235363</td>\n",
       "      <td>1143.499063</td>\n",
       "      <td>319.218384</td>\n",
       "      <td>16.007963</td>\n",
       "      <td>2602.787822</td>\n",
       "      <td>1787.458197</td>\n",
       "      <td>0.0</td>\n",
       "      <td>169.445902</td>\n",
       "      <td>269.802225</td>\n",
       "      <td>1982.640281</td>\n",
       "      <td>77.402108</td>\n",
       "      <td>280.594028</td>\n",
       "      <td>1290.924375</td>\n",
       "      <td>0.0</td>\n",
       "      <td>0.0</td>\n",
       "      <td>0.006661</td>\n",
       "      <td>0.0</td>\n",
       "      <td>0.993339</td>\n",
       "      <td>0.0</td>\n",
       "      <td>0.000000</td>\n",
       "      <td>0.0</td>\n",
       "      <td>0.0</td>\n",
       "      <td>14.815366</td>\n",
       "      <td>0.320290</td>\n",
       "    </tr>\n",
       "    <tr>\n",
       "      <th>626641</th>\n",
       "      <td>3818_2013-12-01</td>\n",
       "      <td>3818</td>\n",
       "      <td>2013-12-01</td>\n",
       "      <td>29.522</td>\n",
       "      <td>-13.189</td>\n",
       "      <td>0.0</td>\n",
       "      <td>1139.045620</td>\n",
       "      <td>0.0</td>\n",
       "      <td>115.538994</td>\n",
       "      <td>1139.045620</td>\n",
       "      <td>308.399789</td>\n",
       "      <td>15.429342</td>\n",
       "      <td>2371.946406</td>\n",
       "      <td>1783.537352</td>\n",
       "      <td>0.0</td>\n",
       "      <td>166.299050</td>\n",
       "      <td>265.625425</td>\n",
       "      <td>1927.523044</td>\n",
       "      <td>76.715844</td>\n",
       "      <td>283.366600</td>\n",
       "      <td>1393.879019</td>\n",
       "      <td>0.0</td>\n",
       "      <td>0.0</td>\n",
       "      <td>0.019980</td>\n",
       "      <td>0.0</td>\n",
       "      <td>0.980020</td>\n",
       "      <td>0.0</td>\n",
       "      <td>0.000000</td>\n",
       "      <td>0.0</td>\n",
       "      <td>0.0</td>\n",
       "      <td>15.981201</td>\n",
       "      <td>0.317855</td>\n",
       "    </tr>\n",
       "    <tr>\n",
       "      <th>626642</th>\n",
       "      <td>3819_2013-12-01</td>\n",
       "      <td>3819</td>\n",
       "      <td>2013-12-01</td>\n",
       "      <td>29.745</td>\n",
       "      <td>-13.176</td>\n",
       "      <td>0.0</td>\n",
       "      <td>1141.168210</td>\n",
       "      <td>0.0</td>\n",
       "      <td>-7.484351</td>\n",
       "      <td>1141.168210</td>\n",
       "      <td>296.678350</td>\n",
       "      <td>14.948658</td>\n",
       "      <td>2150.079475</td>\n",
       "      <td>1783.147579</td>\n",
       "      <td>0.0</td>\n",
       "      <td>166.350604</td>\n",
       "      <td>265.400539</td>\n",
       "      <td>1922.712343</td>\n",
       "      <td>77.015239</td>\n",
       "      <td>285.299027</td>\n",
       "      <td>1386.865940</td>\n",
       "      <td>0.0</td>\n",
       "      <td>0.0</td>\n",
       "      <td>0.000000</td>\n",
       "      <td>0.0</td>\n",
       "      <td>1.000000</td>\n",
       "      <td>0.0</td>\n",
       "      <td>0.000000</td>\n",
       "      <td>0.0</td>\n",
       "      <td>0.0</td>\n",
       "      <td>15.206220</td>\n",
       "      <td>0.282233</td>\n",
       "    </tr>\n",
       "    <tr>\n",
       "      <th>626643</th>\n",
       "      <td>3820_2013-12-01</td>\n",
       "      <td>3820</td>\n",
       "      <td>2013-12-01</td>\n",
       "      <td>29.758</td>\n",
       "      <td>-13.394</td>\n",
       "      <td>0.0</td>\n",
       "      <td>1160.088274</td>\n",
       "      <td>0.0</td>\n",
       "      <td>-66.498403</td>\n",
       "      <td>1160.088274</td>\n",
       "      <td>287.999527</td>\n",
       "      <td>14.461721</td>\n",
       "      <td>2005.585611</td>\n",
       "      <td>1799.816826</td>\n",
       "      <td>0.0</td>\n",
       "      <td>165.003195</td>\n",
       "      <td>262.991362</td>\n",
       "      <td>1867.428470</td>\n",
       "      <td>79.182582</td>\n",
       "      <td>291.762513</td>\n",
       "      <td>1495.411564</td>\n",
       "      <td>0.0</td>\n",
       "      <td>0.0</td>\n",
       "      <td>0.000000</td>\n",
       "      <td>0.0</td>\n",
       "      <td>0.999986</td>\n",
       "      <td>0.0</td>\n",
       "      <td>0.000014</td>\n",
       "      <td>0.0</td>\n",
       "      <td>0.0</td>\n",
       "      <td>15.574830</td>\n",
       "      <td>0.264007</td>\n",
       "    </tr>\n",
       "  </tbody>\n",
       "</table>\n",
       "</div>"
      ],
      "text/plain": [
       "                     ID  area  ... population_density  precipitation\n",
       "626639  3816_2013-12-01  3816  ...          14.813819       0.313800\n",
       "626640  3817_2013-12-01  3817  ...          14.815366       0.320290\n",
       "626641  3818_2013-12-01  3818  ...          15.981201       0.317855\n",
       "626642  3819_2013-12-01  3819  ...          15.206220       0.282233\n",
       "626643  3820_2013-12-01  3820  ...          15.574830       0.264007\n",
       "\n",
       "[5 rows x 32 columns]"
      ]
     },
     "execution_count": 38,
     "metadata": {
      "tags": []
     },
     "output_type": "execute_result"
    }
   ],
   "source": [
    "train.tail()"
   ]
  },
  {
   "cell_type": "markdown",
   "metadata": {
    "colab_type": "text",
    "id": "l8ic7VbhWr0u"
   },
   "source": [
    "# New Section"
   ]
  },
  {
   "cell_type": "code",
   "execution_count": 39,
   "metadata": {
    "colab": {
     "base_uri": "https://localhost:8080/",
     "height": 534
    },
    "colab_type": "code",
    "id": "RHksNuWBxeDn",
    "outputId": "fe7d7aa3-6027-4c8a-9392-7b5ae0e73283"
   },
   "outputs": [
    {
     "data": {
      "text/html": [
       "<div>\n",
       "<style scoped>\n",
       "    .dataframe tbody tr th:only-of-type {\n",
       "        vertical-align: middle;\n",
       "    }\n",
       "\n",
       "    .dataframe tbody tr th {\n",
       "        vertical-align: top;\n",
       "    }\n",
       "\n",
       "    .dataframe thead th {\n",
       "        text-align: right;\n",
       "    }\n",
       "</style>\n",
       "<table border=\"1\" class=\"dataframe\">\n",
       "  <thead>\n",
       "    <tr style=\"text-align: right;\">\n",
       "      <th></th>\n",
       "      <th>ID</th>\n",
       "      <th>area</th>\n",
       "      <th>date</th>\n",
       "      <th>lat</th>\n",
       "      <th>lon</th>\n",
       "      <th>burn_area</th>\n",
       "      <th>climate_aet</th>\n",
       "      <th>climate_def</th>\n",
       "      <th>climate_pdsi</th>\n",
       "      <th>climate_pet</th>\n",
       "      <th>climate_pr</th>\n",
       "      <th>climate_ro</th>\n",
       "      <th>climate_soil</th>\n",
       "      <th>climate_srad</th>\n",
       "      <th>climate_swe</th>\n",
       "      <th>climate_tmmn</th>\n",
       "      <th>climate_tmmx</th>\n",
       "      <th>climate_vap</th>\n",
       "      <th>climate_vpd</th>\n",
       "      <th>climate_vs</th>\n",
       "      <th>elevation</th>\n",
       "      <th>landcover_0</th>\n",
       "      <th>landcover_1</th>\n",
       "      <th>landcover_2</th>\n",
       "      <th>landcover_3</th>\n",
       "      <th>landcover_4</th>\n",
       "      <th>landcover_5</th>\n",
       "      <th>landcover_6</th>\n",
       "      <th>landcover_7</th>\n",
       "      <th>landcover_8</th>\n",
       "      <th>population_density</th>\n",
       "      <th>precipitation</th>\n",
       "    </tr>\n",
       "  </thead>\n",
       "  <tbody>\n",
       "    <tr>\n",
       "      <th>0</th>\n",
       "      <td>0_2014-01-01</td>\n",
       "      <td>0</td>\n",
       "      <td>2014-01-01</td>\n",
       "      <td>25.447</td>\n",
       "      <td>5.296</td>\n",
       "      <td>0</td>\n",
       "      <td>142.756021</td>\n",
       "      <td>1217.926180</td>\n",
       "      <td>-953.401012</td>\n",
       "      <td>1360.571291</td>\n",
       "      <td>1.000000</td>\n",
       "      <td>0.0</td>\n",
       "      <td>355.593690</td>\n",
       "      <td>2349.499157</td>\n",
       "      <td>0.0</td>\n",
       "      <td>187.541787</td>\n",
       "      <td>332.578998</td>\n",
       "      <td>2542.124518</td>\n",
       "      <td>111.013969</td>\n",
       "      <td>156.563945</td>\n",
       "      <td>590.564102</td>\n",
       "      <td>0.0</td>\n",
       "      <td>0.0</td>\n",
       "      <td>0.430648</td>\n",
       "      <td>0.0</td>\n",
       "      <td>0.569045</td>\n",
       "      <td>0.0</td>\n",
       "      <td>0.000307</td>\n",
       "      <td>0.0</td>\n",
       "      <td>0.0</td>\n",
       "      <td>2.773423</td>\n",
       "      <td>0.000457</td>\n",
       "    </tr>\n",
       "    <tr>\n",
       "      <th>1</th>\n",
       "      <td>1_2014-01-01</td>\n",
       "      <td>1</td>\n",
       "      <td>2014-01-01</td>\n",
       "      <td>25.669</td>\n",
       "      <td>5.293</td>\n",
       "      <td>0</td>\n",
       "      <td>154.836847</td>\n",
       "      <td>1193.866315</td>\n",
       "      <td>-961.703043</td>\n",
       "      <td>1348.688788</td>\n",
       "      <td>1.000000</td>\n",
       "      <td>0.0</td>\n",
       "      <td>382.206636</td>\n",
       "      <td>2340.597389</td>\n",
       "      <td>0.0</td>\n",
       "      <td>185.895903</td>\n",
       "      <td>330.826066</td>\n",
       "      <td>2551.085649</td>\n",
       "      <td>106.576545</td>\n",
       "      <td>158.165429</td>\n",
       "      <td>611.544277</td>\n",
       "      <td>0.0</td>\n",
       "      <td>0.0</td>\n",
       "      <td>0.494624</td>\n",
       "      <td>0.0</td>\n",
       "      <td>0.505068</td>\n",
       "      <td>0.0</td>\n",
       "      <td>0.000307</td>\n",
       "      <td>0.0</td>\n",
       "      <td>0.0</td>\n",
       "      <td>4.697883</td>\n",
       "      <td>0.000129</td>\n",
       "    </tr>\n",
       "    <tr>\n",
       "      <th>2</th>\n",
       "      <td>2_2014-01-01</td>\n",
       "      <td>2</td>\n",
       "      <td>2014-01-01</td>\n",
       "      <td>25.443</td>\n",
       "      <td>5.074</td>\n",
       "      <td>0</td>\n",
       "      <td>127.790933</td>\n",
       "      <td>1223.640222</td>\n",
       "      <td>-962.435857</td>\n",
       "      <td>1351.521823</td>\n",
       "      <td>1.000000</td>\n",
       "      <td>0.0</td>\n",
       "      <td>318.078852</td>\n",
       "      <td>2351.867856</td>\n",
       "      <td>0.0</td>\n",
       "      <td>188.441645</td>\n",
       "      <td>330.077285</td>\n",
       "      <td>2551.183265</td>\n",
       "      <td>107.104292</td>\n",
       "      <td>153.257656</td>\n",
       "      <td>594.188987</td>\n",
       "      <td>0.0</td>\n",
       "      <td>0.0</td>\n",
       "      <td>0.288343</td>\n",
       "      <td>0.0</td>\n",
       "      <td>0.711657</td>\n",
       "      <td>0.0</td>\n",
       "      <td>0.000000</td>\n",
       "      <td>0.0</td>\n",
       "      <td>0.0</td>\n",
       "      <td>2.488614</td>\n",
       "      <td>0.000398</td>\n",
       "    </tr>\n",
       "    <tr>\n",
       "      <th>3</th>\n",
       "      <td>3_2014-01-01</td>\n",
       "      <td>3</td>\n",
       "      <td>2014-01-01</td>\n",
       "      <td>25.665</td>\n",
       "      <td>5.070</td>\n",
       "      <td>0</td>\n",
       "      <td>136.924571</td>\n",
       "      <td>1201.258784</td>\n",
       "      <td>-961.326298</td>\n",
       "      <td>1338.120278</td>\n",
       "      <td>1.000000</td>\n",
       "      <td>0.0</td>\n",
       "      <td>339.386497</td>\n",
       "      <td>2348.509414</td>\n",
       "      <td>0.0</td>\n",
       "      <td>185.393692</td>\n",
       "      <td>326.942319</td>\n",
       "      <td>2539.815326</td>\n",
       "      <td>101.962346</td>\n",
       "      <td>155.518048</td>\n",
       "      <td>645.362481</td>\n",
       "      <td>0.0</td>\n",
       "      <td>0.0</td>\n",
       "      <td>0.492103</td>\n",
       "      <td>0.0</td>\n",
       "      <td>0.507897</td>\n",
       "      <td>0.0</td>\n",
       "      <td>0.000000</td>\n",
       "      <td>0.0</td>\n",
       "      <td>0.0</td>\n",
       "      <td>2.439959</td>\n",
       "      <td>0.000158</td>\n",
       "    </tr>\n",
       "    <tr>\n",
       "      <th>4</th>\n",
       "      <td>4_2014-01-01</td>\n",
       "      <td>4</td>\n",
       "      <td>2014-01-01</td>\n",
       "      <td>25.886</td>\n",
       "      <td>5.067</td>\n",
       "      <td>0</td>\n",
       "      <td>144.278146</td>\n",
       "      <td>1197.831547</td>\n",
       "      <td>-959.248284</td>\n",
       "      <td>1342.118844</td>\n",
       "      <td>0.998555</td>\n",
       "      <td>0.0</td>\n",
       "      <td>358.043829</td>\n",
       "      <td>2341.881156</td>\n",
       "      <td>0.0</td>\n",
       "      <td>186.275015</td>\n",
       "      <td>327.839976</td>\n",
       "      <td>2549.462252</td>\n",
       "      <td>102.743046</td>\n",
       "      <td>159.865021</td>\n",
       "      <td>660.372381</td>\n",
       "      <td>0.0</td>\n",
       "      <td>0.0</td>\n",
       "      <td>0.333855</td>\n",
       "      <td>0.0</td>\n",
       "      <td>0.666145</td>\n",
       "      <td>0.0</td>\n",
       "      <td>0.000000</td>\n",
       "      <td>0.0</td>\n",
       "      <td>0.0</td>\n",
       "      <td>2.546723</td>\n",
       "      <td>0.000153</td>\n",
       "    </tr>\n",
       "    <tr>\n",
       "      <th>5</th>\n",
       "      <td>5_2014-01-01</td>\n",
       "      <td>5</td>\n",
       "      <td>2014-01-01</td>\n",
       "      <td>26.108</td>\n",
       "      <td>5.063</td>\n",
       "      <td>0</td>\n",
       "      <td>155.077190</td>\n",
       "      <td>1192.204003</td>\n",
       "      <td>-964.570538</td>\n",
       "      <td>1347.227256</td>\n",
       "      <td>0.230493</td>\n",
       "      <td>0.0</td>\n",
       "      <td>384.467817</td>\n",
       "      <td>2344.524032</td>\n",
       "      <td>0.0</td>\n",
       "      <td>186.079708</td>\n",
       "      <td>327.798873</td>\n",
       "      <td>2560.963562</td>\n",
       "      <td>101.283591</td>\n",
       "      <td>167.324344</td>\n",
       "      <td>674.138471</td>\n",
       "      <td>0.0</td>\n",
       "      <td>0.0</td>\n",
       "      <td>0.393942</td>\n",
       "      <td>0.0</td>\n",
       "      <td>0.606058</td>\n",
       "      <td>0.0</td>\n",
       "      <td>0.000000</td>\n",
       "      <td>0.0</td>\n",
       "      <td>0.0</td>\n",
       "      <td>2.440192</td>\n",
       "      <td>0.000770</td>\n",
       "    </tr>\n",
       "    <tr>\n",
       "      <th>6</th>\n",
       "      <td>6_2014-01-01</td>\n",
       "      <td>6</td>\n",
       "      <td>2014-01-01</td>\n",
       "      <td>26.329</td>\n",
       "      <td>5.059</td>\n",
       "      <td>0</td>\n",
       "      <td>165.673573</td>\n",
       "      <td>1184.368947</td>\n",
       "      <td>-981.082390</td>\n",
       "      <td>1350.036256</td>\n",
       "      <td>0.000000</td>\n",
       "      <td>0.0</td>\n",
       "      <td>415.750783</td>\n",
       "      <td>2334.210552</td>\n",
       "      <td>0.0</td>\n",
       "      <td>187.825825</td>\n",
       "      <td>330.264635</td>\n",
       "      <td>2601.478921</td>\n",
       "      <td>101.857143</td>\n",
       "      <td>168.074560</td>\n",
       "      <td>635.778284</td>\n",
       "      <td>0.0</td>\n",
       "      <td>0.0</td>\n",
       "      <td>0.387383</td>\n",
       "      <td>0.0</td>\n",
       "      <td>0.612617</td>\n",
       "      <td>0.0</td>\n",
       "      <td>0.000000</td>\n",
       "      <td>0.0</td>\n",
       "      <td>0.0</td>\n",
       "      <td>2.430313</td>\n",
       "      <td>0.002025</td>\n",
       "    </tr>\n",
       "    <tr>\n",
       "      <th>7</th>\n",
       "      <td>7_2014-01-01</td>\n",
       "      <td>7</td>\n",
       "      <td>2014-01-01</td>\n",
       "      <td>26.550</td>\n",
       "      <td>5.055</td>\n",
       "      <td>0</td>\n",
       "      <td>170.040471</td>\n",
       "      <td>1166.924343</td>\n",
       "      <td>-1000.463672</td>\n",
       "      <td>1336.968776</td>\n",
       "      <td>0.000000</td>\n",
       "      <td>0.0</td>\n",
       "      <td>436.671670</td>\n",
       "      <td>2327.093431</td>\n",
       "      <td>0.0</td>\n",
       "      <td>185.610424</td>\n",
       "      <td>328.542933</td>\n",
       "      <td>2600.920620</td>\n",
       "      <td>98.105200</td>\n",
       "      <td>167.426924</td>\n",
       "      <td>645.280292</td>\n",
       "      <td>0.0</td>\n",
       "      <td>0.0</td>\n",
       "      <td>0.605043</td>\n",
       "      <td>0.0</td>\n",
       "      <td>0.394957</td>\n",
       "      <td>0.0</td>\n",
       "      <td>0.000000</td>\n",
       "      <td>0.0</td>\n",
       "      <td>0.0</td>\n",
       "      <td>2.385793</td>\n",
       "      <td>0.004801</td>\n",
       "    </tr>\n",
       "    <tr>\n",
       "      <th>8</th>\n",
       "      <td>8_2014-01-01</td>\n",
       "      <td>8</td>\n",
       "      <td>2014-01-01</td>\n",
       "      <td>26.771</td>\n",
       "      <td>5.051</td>\n",
       "      <td>0</td>\n",
       "      <td>169.763785</td>\n",
       "      <td>1163.786179</td>\n",
       "      <td>-1004.548760</td>\n",
       "      <td>1333.495666</td>\n",
       "      <td>0.000000</td>\n",
       "      <td>0.0</td>\n",
       "      <td>441.003251</td>\n",
       "      <td>2329.417529</td>\n",
       "      <td>0.0</td>\n",
       "      <td>184.288587</td>\n",
       "      <td>327.730075</td>\n",
       "      <td>2599.301108</td>\n",
       "      <td>96.234048</td>\n",
       "      <td>167.554659</td>\n",
       "      <td>653.298836</td>\n",
       "      <td>0.0</td>\n",
       "      <td>0.0</td>\n",
       "      <td>0.582741</td>\n",
       "      <td>0.0</td>\n",
       "      <td>0.417259</td>\n",
       "      <td>0.0</td>\n",
       "      <td>0.000000</td>\n",
       "      <td>0.0</td>\n",
       "      <td>0.0</td>\n",
       "      <td>1.592050</td>\n",
       "      <td>0.005471</td>\n",
       "    </tr>\n",
       "    <tr>\n",
       "      <th>9</th>\n",
       "      <td>9_2014-01-01</td>\n",
       "      <td>9</td>\n",
       "      <td>2014-01-01</td>\n",
       "      <td>26.991</td>\n",
       "      <td>5.047</td>\n",
       "      <td>0</td>\n",
       "      <td>167.680476</td>\n",
       "      <td>1174.272094</td>\n",
       "      <td>-1017.399976</td>\n",
       "      <td>1341.998919</td>\n",
       "      <td>0.000000</td>\n",
       "      <td>0.0</td>\n",
       "      <td>441.063881</td>\n",
       "      <td>2328.149256</td>\n",
       "      <td>0.0</td>\n",
       "      <td>184.785903</td>\n",
       "      <td>328.930355</td>\n",
       "      <td>2594.235711</td>\n",
       "      <td>98.768972</td>\n",
       "      <td>170.993156</td>\n",
       "      <td>662.962592</td>\n",
       "      <td>0.0</td>\n",
       "      <td>0.0</td>\n",
       "      <td>0.637296</td>\n",
       "      <td>0.0</td>\n",
       "      <td>0.362704</td>\n",
       "      <td>0.0</td>\n",
       "      <td>0.000000</td>\n",
       "      <td>0.0</td>\n",
       "      <td>0.0</td>\n",
       "      <td>3.734072</td>\n",
       "      <td>0.008663</td>\n",
       "    </tr>\n",
       "  </tbody>\n",
       "</table>\n",
       "</div>"
      ],
      "text/plain": [
       "             ID  area  ... population_density  precipitation\n",
       "0  0_2014-01-01     0  ...           2.773423       0.000457\n",
       "1  1_2014-01-01     1  ...           4.697883       0.000129\n",
       "2  2_2014-01-01     2  ...           2.488614       0.000398\n",
       "3  3_2014-01-01     3  ...           2.439959       0.000158\n",
       "4  4_2014-01-01     4  ...           2.546723       0.000153\n",
       "5  5_2014-01-01     5  ...           2.440192       0.000770\n",
       "6  6_2014-01-01     6  ...           2.430313       0.002025\n",
       "7  7_2014-01-01     7  ...           2.385793       0.004801\n",
       "8  8_2014-01-01     8  ...           1.592050       0.005471\n",
       "9  9_2014-01-01     9  ...           3.734072       0.008663\n",
       "\n",
       "[10 rows x 32 columns]"
      ]
     },
     "execution_count": 39,
     "metadata": {
      "tags": []
     },
     "output_type": "execute_result"
    }
   ],
   "source": [
    "test = pd.read_csv('/content/drive/My Drive/zindi/test .csv', parse_dates=['date'])\n",
    "test.head(10)"
   ]
  },
  {
   "cell_type": "code",
   "execution_count": 40,
   "metadata": {
    "colab": {
     "base_uri": "https://localhost:8080/",
     "height": 301
    },
    "colab_type": "code",
    "id": "UOkWqw5zNNEp",
    "outputId": "dc32165c-04bd-4fc5-c87b-1af5bb37f5b0"
   },
   "outputs": [
    {
     "data": {
      "text/html": [
       "<div>\n",
       "<style scoped>\n",
       "    .dataframe tbody tr th:only-of-type {\n",
       "        vertical-align: middle;\n",
       "    }\n",
       "\n",
       "    .dataframe tbody tr th {\n",
       "        vertical-align: top;\n",
       "    }\n",
       "\n",
       "    .dataframe thead th {\n",
       "        text-align: right;\n",
       "    }\n",
       "</style>\n",
       "<table border=\"1\" class=\"dataframe\">\n",
       "  <thead>\n",
       "    <tr style=\"text-align: right;\">\n",
       "      <th></th>\n",
       "      <th>ID</th>\n",
       "      <th>area</th>\n",
       "      <th>date</th>\n",
       "      <th>lat</th>\n",
       "      <th>lon</th>\n",
       "      <th>burn_area</th>\n",
       "      <th>climate_aet</th>\n",
       "      <th>climate_def</th>\n",
       "      <th>climate_pdsi</th>\n",
       "      <th>climate_pet</th>\n",
       "      <th>climate_pr</th>\n",
       "      <th>climate_ro</th>\n",
       "      <th>climate_soil</th>\n",
       "      <th>climate_srad</th>\n",
       "      <th>climate_swe</th>\n",
       "      <th>climate_tmmn</th>\n",
       "      <th>climate_tmmx</th>\n",
       "      <th>climate_vap</th>\n",
       "      <th>climate_vpd</th>\n",
       "      <th>climate_vs</th>\n",
       "      <th>elevation</th>\n",
       "      <th>landcover_0</th>\n",
       "      <th>landcover_1</th>\n",
       "      <th>landcover_2</th>\n",
       "      <th>landcover_3</th>\n",
       "      <th>landcover_4</th>\n",
       "      <th>landcover_5</th>\n",
       "      <th>landcover_6</th>\n",
       "      <th>landcover_7</th>\n",
       "      <th>landcover_8</th>\n",
       "      <th>population_density</th>\n",
       "      <th>precipitation</th>\n",
       "    </tr>\n",
       "  </thead>\n",
       "  <tbody>\n",
       "    <tr>\n",
       "      <th>137551</th>\n",
       "      <td>3816_2016-12-01</td>\n",
       "      <td>3816</td>\n",
       "      <td>2016-12-01</td>\n",
       "      <td>29.075</td>\n",
       "      <td>-13.214</td>\n",
       "      <td>0</td>\n",
       "      <td>1106.666078</td>\n",
       "      <td>0.0</td>\n",
       "      <td>701.364429</td>\n",
       "      <td>1106.666078</td>\n",
       "      <td>413.977385</td>\n",
       "      <td>169.228033</td>\n",
       "      <td>3466.773380</td>\n",
       "      <td>1902.439812</td>\n",
       "      <td>0.0</td>\n",
       "      <td>167.149706</td>\n",
       "      <td>267.704711</td>\n",
       "      <td>2093.727562</td>\n",
       "      <td>62.497644</td>\n",
       "      <td>222.457715</td>\n",
       "      <td>1285.573771</td>\n",
       "      <td>0.0</td>\n",
       "      <td>0.0</td>\n",
       "      <td>0.003381</td>\n",
       "      <td>0.0</td>\n",
       "      <td>0.994776</td>\n",
       "      <td>0.0</td>\n",
       "      <td>0.001843</td>\n",
       "      <td>0.0</td>\n",
       "      <td>0.0</td>\n",
       "      <td>14.813819</td>\n",
       "      <td>0.302496</td>\n",
       "    </tr>\n",
       "    <tr>\n",
       "      <th>137552</th>\n",
       "      <td>3817_2016-12-01</td>\n",
       "      <td>3817</td>\n",
       "      <td>2016-12-01</td>\n",
       "      <td>29.298</td>\n",
       "      <td>-13.202</td>\n",
       "      <td>0</td>\n",
       "      <td>1110.827869</td>\n",
       "      <td>0.0</td>\n",
       "      <td>712.703513</td>\n",
       "      <td>1110.827869</td>\n",
       "      <td>408.976932</td>\n",
       "      <td>150.189461</td>\n",
       "      <td>3253.502342</td>\n",
       "      <td>1903.454684</td>\n",
       "      <td>0.0</td>\n",
       "      <td>167.219672</td>\n",
       "      <td>267.644496</td>\n",
       "      <td>2091.181030</td>\n",
       "      <td>63.011710</td>\n",
       "      <td>229.476347</td>\n",
       "      <td>1290.924375</td>\n",
       "      <td>0.0</td>\n",
       "      <td>0.0</td>\n",
       "      <td>0.001844</td>\n",
       "      <td>0.0</td>\n",
       "      <td>0.998156</td>\n",
       "      <td>0.0</td>\n",
       "      <td>0.000000</td>\n",
       "      <td>0.0</td>\n",
       "      <td>0.0</td>\n",
       "      <td>14.815366</td>\n",
       "      <td>0.315196</td>\n",
       "    </tr>\n",
       "    <tr>\n",
       "      <th>137553</th>\n",
       "      <td>3818_2016-12-01</td>\n",
       "      <td>3818</td>\n",
       "      <td>2016-12-01</td>\n",
       "      <td>29.522</td>\n",
       "      <td>-13.189</td>\n",
       "      <td>0</td>\n",
       "      <td>1104.297877</td>\n",
       "      <td>0.0</td>\n",
       "      <td>728.047262</td>\n",
       "      <td>1104.297877</td>\n",
       "      <td>410.514014</td>\n",
       "      <td>154.363551</td>\n",
       "      <td>3050.135921</td>\n",
       "      <td>1899.752785</td>\n",
       "      <td>0.0</td>\n",
       "      <td>163.970212</td>\n",
       "      <td>263.278879</td>\n",
       "      <td>2036.237246</td>\n",
       "      <td>62.006802</td>\n",
       "      <td>233.040929</td>\n",
       "      <td>1393.879019</td>\n",
       "      <td>0.0</td>\n",
       "      <td>0.0</td>\n",
       "      <td>0.007992</td>\n",
       "      <td>0.0</td>\n",
       "      <td>0.992008</td>\n",
       "      <td>0.0</td>\n",
       "      <td>0.000000</td>\n",
       "      <td>0.0</td>\n",
       "      <td>0.0</td>\n",
       "      <td>15.981201</td>\n",
       "      <td>0.312253</td>\n",
       "    </tr>\n",
       "    <tr>\n",
       "      <th>137554</th>\n",
       "      <td>3819_2016-12-01</td>\n",
       "      <td>3819</td>\n",
       "      <td>2016-12-01</td>\n",
       "      <td>29.745</td>\n",
       "      <td>-13.176</td>\n",
       "      <td>0</td>\n",
       "      <td>1103.605791</td>\n",
       "      <td>0.0</td>\n",
       "      <td>730.454929</td>\n",
       "      <td>1103.605791</td>\n",
       "      <td>409.563474</td>\n",
       "      <td>149.969406</td>\n",
       "      <td>2927.227289</td>\n",
       "      <td>1899.357051</td>\n",
       "      <td>0.0</td>\n",
       "      <td>163.851131</td>\n",
       "      <td>262.915016</td>\n",
       "      <td>2034.632399</td>\n",
       "      <td>61.621615</td>\n",
       "      <td>235.832610</td>\n",
       "      <td>1386.865940</td>\n",
       "      <td>0.0</td>\n",
       "      <td>0.0</td>\n",
       "      <td>0.000000</td>\n",
       "      <td>0.0</td>\n",
       "      <td>1.000000</td>\n",
       "      <td>0.0</td>\n",
       "      <td>0.000000</td>\n",
       "      <td>0.0</td>\n",
       "      <td>0.0</td>\n",
       "      <td>15.206220</td>\n",
       "      <td>0.316645</td>\n",
       "    </tr>\n",
       "    <tr>\n",
       "      <th>137555</th>\n",
       "      <td>3820_2016-12-01</td>\n",
       "      <td>3820</td>\n",
       "      <td>2016-12-01</td>\n",
       "      <td>29.758</td>\n",
       "      <td>-13.394</td>\n",
       "      <td>0</td>\n",
       "      <td>1115.367057</td>\n",
       "      <td>0.0</td>\n",
       "      <td>741.525973</td>\n",
       "      <td>1115.367057</td>\n",
       "      <td>407.668205</td>\n",
       "      <td>156.901668</td>\n",
       "      <td>2823.415454</td>\n",
       "      <td>1911.232635</td>\n",
       "      <td>0.0</td>\n",
       "      <td>162.095965</td>\n",
       "      <td>260.053958</td>\n",
       "      <td>1979.070169</td>\n",
       "      <td>63.328364</td>\n",
       "      <td>241.177730</td>\n",
       "      <td>1495.411564</td>\n",
       "      <td>0.0</td>\n",
       "      <td>0.0</td>\n",
       "      <td>0.000000</td>\n",
       "      <td>0.0</td>\n",
       "      <td>0.998742</td>\n",
       "      <td>0.0</td>\n",
       "      <td>0.001258</td>\n",
       "      <td>0.0</td>\n",
       "      <td>0.0</td>\n",
       "      <td>15.574830</td>\n",
       "      <td>0.329992</td>\n",
       "    </tr>\n",
       "  </tbody>\n",
       "</table>\n",
       "</div>"
      ],
      "text/plain": [
       "                     ID  area  ... population_density  precipitation\n",
       "137551  3816_2016-12-01  3816  ...          14.813819       0.302496\n",
       "137552  3817_2016-12-01  3817  ...          14.815366       0.315196\n",
       "137553  3818_2016-12-01  3818  ...          15.981201       0.312253\n",
       "137554  3819_2016-12-01  3819  ...          15.206220       0.316645\n",
       "137555  3820_2016-12-01  3820  ...          15.574830       0.329992\n",
       "\n",
       "[5 rows x 32 columns]"
      ]
     },
     "execution_count": 40,
     "metadata": {
      "tags": []
     },
     "output_type": "execute_result"
    }
   ],
   "source": [
    "test.tail()"
   ]
  },
  {
   "cell_type": "code",
   "execution_count": 41,
   "metadata": {
    "colab": {
     "base_uri": "https://localhost:8080/",
     "height": 710
    },
    "colab_type": "code",
    "id": "od_-PDtBtaaQ",
    "outputId": "b65fb628-b06c-48b6-d236-77e0db468a77"
   },
   "outputs": [
    {
     "name": "stdout",
     "output_type": "stream",
     "text": [
      "<class 'pandas.core.frame.DataFrame'>\n",
      "RangeIndex: 137556 entries, 0 to 137555\n",
      "Data columns (total 32 columns):\n",
      " #   Column              Non-Null Count   Dtype         \n",
      "---  ------              --------------   -----         \n",
      " 0   ID                  137556 non-null  object        \n",
      " 1   area                137556 non-null  int64         \n",
      " 2   date                137556 non-null  datetime64[ns]\n",
      " 3   lat                 137556 non-null  float64       \n",
      " 4   lon                 137556 non-null  float64       \n",
      " 5   burn_area           137556 non-null  int64         \n",
      " 6   climate_aet         137556 non-null  float64       \n",
      " 7   climate_def         137556 non-null  float64       \n",
      " 8   climate_pdsi        137556 non-null  float64       \n",
      " 9   climate_pet         137556 non-null  float64       \n",
      " 10  climate_pr          137556 non-null  float64       \n",
      " 11  climate_ro          137556 non-null  float64       \n",
      " 12  climate_soil        137556 non-null  float64       \n",
      " 13  climate_srad        137556 non-null  float64       \n",
      " 14  climate_swe         137556 non-null  float64       \n",
      " 15  climate_tmmn        137556 non-null  float64       \n",
      " 16  climate_tmmx        137556 non-null  float64       \n",
      " 17  climate_vap         137556 non-null  float64       \n",
      " 18  climate_vpd         137556 non-null  float64       \n",
      " 19  climate_vs          137556 non-null  float64       \n",
      " 20  elevation           137556 non-null  float64       \n",
      " 21  landcover_0         137556 non-null  float64       \n",
      " 22  landcover_1         137556 non-null  float64       \n",
      " 23  landcover_2         137556 non-null  float64       \n",
      " 24  landcover_3         137556 non-null  float64       \n",
      " 25  landcover_4         137556 non-null  float64       \n",
      " 26  landcover_5         137556 non-null  float64       \n",
      " 27  landcover_6         137556 non-null  float64       \n",
      " 28  landcover_7         137556 non-null  float64       \n",
      " 29  landcover_8         137556 non-null  float64       \n",
      " 30  population_density  133272 non-null  float64       \n",
      " 31  precipitation       137556 non-null  float64       \n",
      "dtypes: datetime64[ns](1), float64(28), int64(2), object(1)\n",
      "memory usage: 33.6+ MB\n"
     ]
    }
   ],
   "source": [
    "# More information about the test data\n",
    "test.info()"
   ]
  },
  {
   "cell_type": "code",
   "execution_count": 42,
   "metadata": {
    "colab": {
     "base_uri": "https://localhost:8080/",
     "height": 265
    },
    "colab_type": "code",
    "id": "gCBdNW5F5J_s",
    "outputId": "4e97e08a-c39c-484e-9ad4-590c26b234c3"
   },
   "outputs": [
    {
     "data": {
      "text/plain": [
       "<bound method DataFrame.sum of            ID   area   date  ...  landcover_8  population_density  precipitation\n",
       "0       False  False  False  ...        False               False          False\n",
       "1       False  False  False  ...        False               False          False\n",
       "2       False  False  False  ...        False               False          False\n",
       "3       False  False  False  ...        False               False          False\n",
       "4       False  False  False  ...        False               False          False\n",
       "...       ...    ...    ...  ...          ...                 ...            ...\n",
       "137551  False  False  False  ...        False               False          False\n",
       "137552  False  False  False  ...        False               False          False\n",
       "137553  False  False  False  ...        False               False          False\n",
       "137554  False  False  False  ...        False               False          False\n",
       "137555  False  False  False  ...        False               False          False\n",
       "\n",
       "[137556 rows x 32 columns]>"
      ]
     },
     "execution_count": 42,
     "metadata": {
      "tags": []
     },
     "output_type": "execute_result"
    }
   ],
   "source": [
    "# Checking for null values\n",
    "test.isnull().sum"
   ]
  },
  {
   "cell_type": "code",
   "execution_count": 43,
   "metadata": {
    "colab": {
     "base_uri": "https://localhost:8080/",
     "height": 710
    },
    "colab_type": "code",
    "id": "7iN1QJ_f6DYx",
    "outputId": "3e3a03b6-b7f8-4da2-a854-58e8594dd7c5"
   },
   "outputs": [
    {
     "name": "stdout",
     "output_type": "stream",
     "text": [
      "<class 'pandas.core.frame.DataFrame'>\n",
      "RangeIndex: 626644 entries, 0 to 626643\n",
      "Data columns (total 32 columns):\n",
      " #   Column              Non-Null Count   Dtype         \n",
      "---  ------              --------------   -----         \n",
      " 0   ID                  626644 non-null  object        \n",
      " 1   area                626644 non-null  int64         \n",
      " 2   date                626644 non-null  datetime64[ns]\n",
      " 3   lat                 626644 non-null  float64       \n",
      " 4   lon                 626644 non-null  float64       \n",
      " 5   burn_area           626644 non-null  float64       \n",
      " 6   climate_aet         626644 non-null  float64       \n",
      " 7   climate_def         626644 non-null  float64       \n",
      " 8   climate_pdsi        626644 non-null  float64       \n",
      " 9   climate_pet         626644 non-null  float64       \n",
      " 10  climate_pr          626644 non-null  float64       \n",
      " 11  climate_ro          626644 non-null  float64       \n",
      " 12  climate_soil        626644 non-null  float64       \n",
      " 13  climate_srad        626644 non-null  float64       \n",
      " 14  climate_swe         626644 non-null  float64       \n",
      " 15  climate_tmmn        626644 non-null  float64       \n",
      " 16  climate_tmmx        626644 non-null  float64       \n",
      " 17  climate_vap         626644 non-null  float64       \n",
      " 18  climate_vpd         626644 non-null  float64       \n",
      " 19  climate_vs          626644 non-null  float64       \n",
      " 20  elevation           626644 non-null  float64       \n",
      " 21  landcover_0         626644 non-null  float64       \n",
      " 22  landcover_1         626644 non-null  float64       \n",
      " 23  landcover_2         626644 non-null  float64       \n",
      " 24  landcover_3         626644 non-null  float64       \n",
      " 25  landcover_4         626644 non-null  float64       \n",
      " 26  landcover_5         626644 non-null  float64       \n",
      " 27  landcover_6         626644 non-null  float64       \n",
      " 28  landcover_7         626644 non-null  float64       \n",
      " 29  landcover_8         626644 non-null  float64       \n",
      " 30  population_density  607128 non-null  float64       \n",
      " 31  precipitation       626644 non-null  float64       \n",
      "dtypes: datetime64[ns](1), float64(29), int64(1), object(1)\n",
      "memory usage: 153.0+ MB\n"
     ]
    }
   ],
   "source": [
    "train.info()"
   ]
  },
  {
   "cell_type": "code",
   "execution_count": 44,
   "metadata": {
    "colab": {
     "base_uri": "https://localhost:8080/",
     "height": 603
    },
    "colab_type": "code",
    "id": "9iMoF-cZ_k8M",
    "outputId": "5e29c3c3-408a-4c6f-9589-a2dd638782f6"
   },
   "outputs": [
    {
     "data": {
      "text/plain": [
       "ID                        0\n",
       "area                      0\n",
       "date                      0\n",
       "lat                       0\n",
       "lon                       0\n",
       "burn_area                 0\n",
       "climate_aet               0\n",
       "climate_def               0\n",
       "climate_pdsi              0\n",
       "climate_pet               0\n",
       "climate_pr                0\n",
       "climate_ro                0\n",
       "climate_soil              0\n",
       "climate_srad              0\n",
       "climate_swe               0\n",
       "climate_tmmn              0\n",
       "climate_tmmx              0\n",
       "climate_vap               0\n",
       "climate_vpd               0\n",
       "climate_vs                0\n",
       "elevation                 0\n",
       "landcover_0               0\n",
       "landcover_1               0\n",
       "landcover_2               0\n",
       "landcover_3               0\n",
       "landcover_4               0\n",
       "landcover_5               0\n",
       "landcover_6               0\n",
       "landcover_7               0\n",
       "landcover_8               0\n",
       "population_density    19516\n",
       "precipitation             0\n",
       "dtype: int64"
      ]
     },
     "execution_count": 44,
     "metadata": {
      "tags": []
     },
     "output_type": "execute_result"
    }
   ],
   "source": [
    "train.isnull().sum()"
   ]
  },
  {
   "cell_type": "markdown",
   "metadata": {
    "colab_type": "text",
    "id": "Tnl3iVg5xqfA"
   },
   "source": [
    "# EDA + Feature Engineering"
   ]
  },
  {
   "cell_type": "code",
   "execution_count": 45,
   "metadata": {
    "colab": {
     "base_uri": "https://localhost:8080/",
     "height": 455
    },
    "colab_type": "code",
    "id": "DG4siNyqxrsi",
    "outputId": "9cf09365-db40-4e22-f925-5945433ffde7"
   },
   "outputs": [
    {
     "data": {
      "text/plain": [
       "<matplotlib.axes._subplots.AxesSubplot at 0x7f97e1b48080>"
      ]
     },
     "execution_count": 45,
     "metadata": {
      "tags": []
     },
     "output_type": "execute_result"
    },
    {
     "data": {
      "image/png": "[encoded data removed]",
      "text/plain": [
       "<Figure size 1296x432 with 1 Axes>"
      ]
     },
     "metadata": {
      "needs_background": "light",
      "tags": []
     },
     "output_type": "display_data"
    }
   ],
   "source": [
    "# Look at correlation with target\n",
    "train.corr()['burn_area'].sort_values().plot(kind='bar', figsize=(18, 6))"
   ]
  },
  {
   "cell_type": "code",
   "execution_count": 46,
   "metadata": {
    "colab": {
     "base_uri": "https://localhost:8080/",
     "height": 297
    },
    "colab_type": "code",
    "id": "z7hMeWXX-a4z",
    "outputId": "23625834-44ac-455d-eb23-f0059e036163"
   },
   "outputs": [
    {
     "data": {
      "text/plain": [
       "<matplotlib.axes._subplots.AxesSubplot at 0x7f97dfeff400>"
      ]
     },
     "execution_count": 46,
     "metadata": {
      "tags": []
     },
     "output_type": "execute_result"
    },
    {
     "data": {
      "image/png": "[encoded data removed]",
      "text/plain": [
       "<Figure size 432x288 with 1 Axes>"
      ]
     },
     "metadata": {
      "needs_background": "light",
      "tags": []
     },
     "output_type": "display_data"
    }
   ],
   "source": [
    "sns.countplot(test['burn_area'])"
   ]
  },
  {
   "cell_type": "code",
   "execution_count": 47,
   "metadata": {
    "colab": {
     "base_uri": "https://localhost:8080/",
     "height": 282
    },
    "colab_type": "code",
    "id": "DLVC6pU91PPE",
    "outputId": "2f0ed522-864b-4ed1-e1d3-cb34caf75731"
   },
   "outputs": [
    {
     "data": {
      "text/plain": [
       "<matplotlib.collections.PathCollection at 0x7f97dfde7cc0>"
      ]
     },
     "execution_count": 47,
     "metadata": {
      "tags": []
     },
     "output_type": "execute_result"
    },
    {
     "data": {
      "image/png": "[encoded data removed]",
      "text/plain": [
       "<Figure size 432x288 with 1 Axes>"
      ]
     },
     "metadata": {
      "needs_background": "light",
      "tags": []
     },
     "output_type": "display_data"
    }
   ],
   "source": [
    "# Look at some scatter plots (only plotting for a subset of data to keep things fast)\n",
    "sample = train.sample(10000)\n",
    "plt.scatter(sample['climate_vap'], sample['burn_area'], alpha=0.3)"
   ]
  },
  {
   "cell_type": "code",
   "execution_count": 48,
   "metadata": {
    "colab": {
     "base_uri": "https://localhost:8080/",
     "height": 282
    },
    "colab_type": "code",
    "id": "Fp-Wq1zrCets",
    "outputId": "bb705a7b-be50-4af6-c769-0e225f703238"
   },
   "outputs": [
    {
     "data": {
      "text/plain": [
       "<matplotlib.collections.PathCollection at 0x7f97dfd50048>"
      ]
     },
     "execution_count": 48,
     "metadata": {
      "tags": []
     },
     "output_type": "execute_result"
    },
    {
     "data": {
      "image/png": "[encoded data removed]",
      "text/plain": [
       "<Figure size 432x288 with 1 Axes>"
      ]
     },
     "metadata": {
      "needs_background": "light",
      "tags": []
     },
     "output_type": "display_data"
    }
   ],
   "source": [
    "# Higher temp -> more fires it looks like\n",
    "plt.scatter(sample['climate_tmmx'], sample['burn_area'], alpha=0.3)"
   ]
  },
  {
   "cell_type": "code",
   "execution_count": 49,
   "metadata": {
    "colab": {
     "base_uri": "https://localhost:8080/",
     "height": 282
    },
    "colab_type": "code",
    "id": "9ka6GRWlB7ZN",
    "outputId": "20dfb005-529f-43bc-f254-07ec5b4bd967"
   },
   "outputs": [
    {
     "data": {
      "text/plain": [
       "<matplotlib.collections.PathCollection at 0x7f97dfd2e828>"
      ]
     },
     "execution_count": 49,
     "metadata": {
      "tags": []
     },
     "output_type": "execute_result"
    },
    {
     "data": {
      "image/png": "[encoded data removed]",
      "text/plain": [
       "<Figure size 432x288 with 1 Axes>"
      ]
     },
     "metadata": {
      "needs_background": "light",
      "tags": []
     },
     "output_type": "display_data"
    }
   ],
   "source": [
    "# Lower temp -> less fires it looks like\n",
    "plt.scatter(sample['climate_tmmn'], sample['burn_area'], alpha=0.3)"
   ]
  },
  {
   "cell_type": "markdown",
   "metadata": {
    "colab_type": "text",
    "id": "xXIk62X9iONj"
   },
   "source": [
    "##  Adding date features"
   ]
  },
  {
   "cell_type": "code",
   "execution_count": 50,
   "metadata": {
    "colab": {
     "base_uri": "https://localhost:8080/",
     "height": 300
    },
    "colab_type": "code",
    "id": "bag8HJpxCucw",
    "outputId": "c6b6cbfc-01c1-4850-972e-90a05792f71f"
   },
   "outputs": [
    {
     "data": {
      "text/plain": [
       "<matplotlib.axes._subplots.AxesSubplot at 0x7f97dfcf3b00>"
      ]
     },
     "execution_count": 50,
     "metadata": {
      "tags": []
     },
     "output_type": "execute_result"
    },
    {
     "data": {
      "image/png": "[encoded data removed]",
      "text/plain": [
       "<Figure size 432x288 with 1 Axes>"
      ]
     },
     "metadata": {
      "needs_background": "light",
      "tags": []
     },
     "output_type": "display_data"
    }
   ],
   "source": [
    "# Date variables\n",
    "train['month'] = train.date.dt.month\n",
    "train['year'] = train.date.dt.year\n",
    "\n",
    "# Plotting mean burn_area for each month - very strong mid-year peak (dry season)\n",
    "train.groupby('month').mean().reset_index().plot(y='burn_area', x='month', kind='bar')"
   ]
  },
  {
   "cell_type": "code",
   "execution_count": 51,
   "metadata": {
    "colab": {
     "base_uri": "https://localhost:8080/",
     "height": 301
    },
    "colab_type": "code",
    "id": "o-Z-G6eMCznI",
    "outputId": "dda94579-24f8-4fa3-aace-37ede5803086"
   },
   "outputs": [
    {
     "data": {
      "text/plain": [
       "<matplotlib.axes._subplots.AxesSubplot at 0x7f97e1b48d68>"
      ]
     },
     "execution_count": 51,
     "metadata": {
      "tags": []
     },
     "output_type": "execute_result"
    },
    {
     "data": {
      "image/png": "[encoded data removed]",
      "text/plain": [
       "<Figure size 432x288 with 1 Axes>"
      ]
     },
     "metadata": {
      "needs_background": "light",
      "tags": []
     },
     "output_type": "display_data"
    }
   ],
   "source": [
    "# Plot trend year-on-year\n",
    "train.groupby('year').mean().reset_index().plot(y='burn_area', x='year', ylim=(0, 0.03))"
   ]
  },
  {
   "cell_type": "code",
   "execution_count": 52,
   "metadata": {
    "colab": {
     "base_uri": "https://localhost:8080/",
     "height": 286
    },
    "colab_type": "code",
    "id": "BCU3WP5fEAHq",
    "outputId": "fdd8df60-dfa1-4ecf-cfe4-b458a662d635"
   },
   "outputs": [
    {
     "data": {
      "text/plain": [
       "<matplotlib.axes._subplots.AxesSubplot at 0x7f97dfbd1dd8>"
      ]
     },
     "execution_count": 52,
     "metadata": {
      "tags": []
     },
     "output_type": "execute_result"
    },
    {
     "data": {
      "image/png": "[encoded data removed]",
      "text/plain": [
       "<Figure size 432x288 with 1 Axes>"
      ]
     },
     "metadata": {
      "needs_background": "light",
      "tags": []
     },
     "output_type": "display_data"
    }
   ],
   "source": [
    "# Let's plot precipitation and burn area on the same plot - note the inverse relationship, and the strong periodic component to both.\n",
    "ax = train.groupby('date').mean().reset_index().plot(y='burn_area', x='date')\n",
    "train.groupby('date').mean().reset_index().plot(y='precipitation', x='date', ax=ax)"
   ]
  },
  {
   "cell_type": "markdown",
   "metadata": {
    "colab_type": "text",
    "id": "RDCOsUvCz3dA"
   },
   "source": [
    "# Data Split for Validation\n",
    "\n",
    "We don't want to just split randomly - this would give us artificially high scores. Instead, let's use the last 3 years of the dataset for validation to more closely match the test configuration."
   ]
  },
  {
   "cell_type": "code",
   "execution_count": 53,
   "metadata": {
    "colab": {
     "base_uri": "https://localhost:8080/",
     "height": 34
    },
    "colab_type": "code",
    "id": "SCk5CZKI0Kt4",
    "outputId": "539c9cf4-27f8-45d9-c689-e3d9272708aa"
   },
   "outputs": [
    {
     "name": "stdout",
     "output_type": "stream",
     "text": [
      "(473856, 34) (129570, 34)\n"
     ]
    }
   ],
   "source": [
    "train_all = train.copy().dropna()\n",
    "train = train_all.loc[train_all.date < '2011-01-01']\n",
    "valid = train_all.loc[train_all.date > '2011-01-01']\n",
    "print(train.shape, valid.shape)"
   ]
  },
  {
   "cell_type": "markdown",
   "metadata": {
    "colab_type": "text",
    "id": "sIRFzOxTx3sE"
   },
   "source": [
    "# Simple Model"
   ]
  },
  {
   "cell_type": "code",
   "execution_count": 54,
   "metadata": {
    "colab": {
     "base_uri": "https://localhost:8080/",
     "height": 158
    },
    "colab_type": "code",
    "id": "hMjgH87RzOqX",
    "outputId": "794c7d96-66a3-4b8e-bf20-657c376e07c5"
   },
   "outputs": [
    {
     "data": {
      "text/plain": [
       "Index(['climate_aet', 'climate_def', 'climate_pdsi', 'climate_pet',\n",
       "       'climate_pr', 'climate_ro', 'climate_soil', 'climate_srad',\n",
       "       'climate_swe', 'climate_tmmn', 'climate_tmmx', 'climate_vap',\n",
       "       'climate_vpd', 'climate_vs', 'elevation', 'landcover_0', 'landcover_1',\n",
       "       'landcover_2', 'landcover_3', 'landcover_4', 'landcover_5',\n",
       "       'landcover_6', 'landcover_7', 'landcover_8', 'population_density',\n",
       "       'precipitation', 'month', 'year'],\n",
       "      dtype='object')"
      ]
     },
     "execution_count": 54,
     "metadata": {
      "tags": []
     },
     "output_type": "execute_result"
    }
   ],
   "source": [
    "# Define input and output columns\n",
    "in_cols = train.columns[6:]\n",
    "target_col = 'burn_area'\n",
    "in_cols"
   ]
  },
  {
   "cell_type": "code",
   "execution_count": 55,
   "metadata": {
    "colab": {
     "base_uri": "https://localhost:8080/",
     "height": 34
    },
    "colab_type": "code",
    "id": "l-8j9zDpzUpc",
    "outputId": "a93576ed-f35e-47de-8597-3176bb89f9ef"
   },
   "outputs": [
    {
     "data": {
      "text/plain": [
       "0.050251040694275946"
      ]
     },
     "execution_count": 55,
     "metadata": {
      "tags": []
     },
     "output_type": "execute_result"
    }
   ],
   "source": [
    "# Get our X and y training and validation sets ready\n",
    "X_train, y_train = train[in_cols], train[target_col]\n",
    "X_valid, y_valid = valid[in_cols], valid[target_col]\n",
    "\n",
    "# Create and fit the model\n",
    "model = RidgeCV()\n",
    "model.fit(X_train, y_train)\n",
    "\n",
    "# Make predictions\n",
    "preds = model.predict(X_valid)\n",
    "\n",
    "# Score\n",
    "mean_squared_error(y_valid, preds)**0.5 # RMSE - should match Zindi score. Lower is better"
   ]
  },
  {
   "cell_type": "markdown",
   "metadata": {
    "colab_type": "text",
    "id": "kX-W3Hs3JUid"
   },
   "source": [
    "# Random Forest Regression Model"
   ]
  },
  {
   "cell_type": "code",
   "execution_count": 56,
   "metadata": {
    "colab": {
     "base_uri": "https://localhost:8080/",
     "height": 34
    },
    "colab_type": "code",
    "id": "Jp3O7M-cJaoI",
    "outputId": "2f9c5813-6362-4fd0-b919-c32661210b8a"
   },
   "outputs": [
    {
     "name": "stdout",
     "output_type": "stream",
     "text": [
      "mean squared error score:  0.03618415927682415\n"
     ]
    }
   ],
   "source": [
    "rModel = RandomForestRegressor(n_estimators=10, random_state=0)\n",
    "rModel.fit( X_train, y_train)\n",
    "\n",
    "model_score = rModel.score(X_valid, y_valid)\n",
    "\n",
    "prediction = rModel.predict(X_valid)\n",
    "\n",
    "\n",
    "print(\"mean squared error score: \", mean_squared_error(y_valid, prediction )** 0.5)\n",
    "\n",
    "#print(\"r2 score: \", r2_score(y_valid, prediction))\n",
    "\n",
    "\n"
   ]
  },
  {
   "cell_type": "markdown",
   "metadata": {
    "colab_type": "text",
    "id": "vxW0cqbkn_re"
   },
   "source": [
    "# Visualizing Predictions"
   ]
  },
  {
   "cell_type": "code",
   "execution_count": 57,
   "metadata": {
    "colab": {
     "base_uri": "https://localhost:8080/",
     "height": 197
    },
    "colab_type": "code",
    "id": "bb8DdgWskqQs",
    "outputId": "7d1b38f9-67bc-49ab-ed00-1e92a570b780"
   },
   "outputs": [
    {
     "data": {
      "text/html": [
       "<div>\n",
       "<style scoped>\n",
       "    .dataframe tbody tr th:only-of-type {\n",
       "        vertical-align: middle;\n",
       "    }\n",
       "\n",
       "    .dataframe tbody tr th {\n",
       "        vertical-align: top;\n",
       "    }\n",
       "\n",
       "    .dataframe thead th {\n",
       "        text-align: right;\n",
       "    }\n",
       "</style>\n",
       "<table border=\"1\" class=\"dataframe\">\n",
       "  <thead>\n",
       "    <tr style=\"text-align: right;\">\n",
       "      <th></th>\n",
       "      <th>ID</th>\n",
       "      <th>Prediction</th>\n",
       "    </tr>\n",
       "  </thead>\n",
       "  <tbody>\n",
       "    <tr>\n",
       "      <th>0</th>\n",
       "      <td>0_2014-01-01</td>\n",
       "      <td>0</td>\n",
       "    </tr>\n",
       "    <tr>\n",
       "      <th>1</th>\n",
       "      <td>1_2014-01-01</td>\n",
       "      <td>0</td>\n",
       "    </tr>\n",
       "    <tr>\n",
       "      <th>2</th>\n",
       "      <td>2_2014-01-01</td>\n",
       "      <td>0</td>\n",
       "    </tr>\n",
       "    <tr>\n",
       "      <th>3</th>\n",
       "      <td>3_2014-01-01</td>\n",
       "      <td>0</td>\n",
       "    </tr>\n",
       "    <tr>\n",
       "      <th>4</th>\n",
       "      <td>4_2014-01-01</td>\n",
       "      <td>0</td>\n",
       "    </tr>\n",
       "  </tbody>\n",
       "</table>\n",
       "</div>"
      ],
      "text/plain": [
       "             ID  Prediction\n",
       "0  0_2014-01-01           0\n",
       "1  1_2014-01-01           0\n",
       "2  2_2014-01-01           0\n",
       "3  3_2014-01-01           0\n",
       "4  4_2014-01-01           0"
      ]
     },
     "execution_count": 57,
     "metadata": {
      "tags": []
     },
     "output_type": "execute_result"
    }
   ],
   "source": [
    "# Look at the sample submission file\n",
    "ss = pd.read_csv('/content/drive/My Drive/zindi/SampleSubmission (1).csv')\n",
    "ss.head()"
   ]
  },
  {
   "cell_type": "code",
   "execution_count": 58,
   "metadata": {
    "colab": {
     "base_uri": "https://localhost:8080/",
     "height": 301
    },
    "colab_type": "code",
    "id": "MlKjnZ8WkvaX",
    "outputId": "263db035-d616-4185-e038-98014e58d25a"
   },
   "outputs": [
    {
     "data": {
      "text/html": [
       "<div>\n",
       "<style scoped>\n",
       "    .dataframe tbody tr th:only-of-type {\n",
       "        vertical-align: middle;\n",
       "    }\n",
       "\n",
       "    .dataframe tbody tr th {\n",
       "        vertical-align: top;\n",
       "    }\n",
       "\n",
       "    .dataframe thead th {\n",
       "        text-align: right;\n",
       "    }\n",
       "</style>\n",
       "<table border=\"1\" class=\"dataframe\">\n",
       "  <thead>\n",
       "    <tr style=\"text-align: right;\">\n",
       "      <th></th>\n",
       "      <th>ID</th>\n",
       "      <th>area</th>\n",
       "      <th>date</th>\n",
       "      <th>lat</th>\n",
       "      <th>lon</th>\n",
       "      <th>burn_area</th>\n",
       "      <th>climate_aet</th>\n",
       "      <th>climate_def</th>\n",
       "      <th>climate_pdsi</th>\n",
       "      <th>climate_pet</th>\n",
       "      <th>climate_pr</th>\n",
       "      <th>climate_ro</th>\n",
       "      <th>climate_soil</th>\n",
       "      <th>climate_srad</th>\n",
       "      <th>climate_swe</th>\n",
       "      <th>climate_tmmn</th>\n",
       "      <th>climate_tmmx</th>\n",
       "      <th>climate_vap</th>\n",
       "      <th>climate_vpd</th>\n",
       "      <th>climate_vs</th>\n",
       "      <th>elevation</th>\n",
       "      <th>landcover_0</th>\n",
       "      <th>landcover_1</th>\n",
       "      <th>landcover_2</th>\n",
       "      <th>landcover_3</th>\n",
       "      <th>landcover_4</th>\n",
       "      <th>landcover_5</th>\n",
       "      <th>landcover_6</th>\n",
       "      <th>landcover_7</th>\n",
       "      <th>landcover_8</th>\n",
       "      <th>population_density</th>\n",
       "      <th>precipitation</th>\n",
       "    </tr>\n",
       "  </thead>\n",
       "  <tbody>\n",
       "    <tr>\n",
       "      <th>0</th>\n",
       "      <td>0_2014-01-01</td>\n",
       "      <td>0</td>\n",
       "      <td>2014-01-01</td>\n",
       "      <td>25.447</td>\n",
       "      <td>5.296</td>\n",
       "      <td>0</td>\n",
       "      <td>142.756021</td>\n",
       "      <td>1217.926180</td>\n",
       "      <td>-953.401012</td>\n",
       "      <td>1360.571291</td>\n",
       "      <td>1.000000</td>\n",
       "      <td>0.0</td>\n",
       "      <td>355.593690</td>\n",
       "      <td>2349.499157</td>\n",
       "      <td>0.0</td>\n",
       "      <td>187.541787</td>\n",
       "      <td>332.578998</td>\n",
       "      <td>2542.124518</td>\n",
       "      <td>111.013969</td>\n",
       "      <td>156.563945</td>\n",
       "      <td>590.564102</td>\n",
       "      <td>0.0</td>\n",
       "      <td>0.0</td>\n",
       "      <td>0.430648</td>\n",
       "      <td>0.0</td>\n",
       "      <td>0.569045</td>\n",
       "      <td>0.0</td>\n",
       "      <td>0.000307</td>\n",
       "      <td>0.0</td>\n",
       "      <td>0.0</td>\n",
       "      <td>2.773423</td>\n",
       "      <td>0.000457</td>\n",
       "    </tr>\n",
       "    <tr>\n",
       "      <th>1</th>\n",
       "      <td>1_2014-01-01</td>\n",
       "      <td>1</td>\n",
       "      <td>2014-01-01</td>\n",
       "      <td>25.669</td>\n",
       "      <td>5.293</td>\n",
       "      <td>0</td>\n",
       "      <td>154.836847</td>\n",
       "      <td>1193.866315</td>\n",
       "      <td>-961.703043</td>\n",
       "      <td>1348.688788</td>\n",
       "      <td>1.000000</td>\n",
       "      <td>0.0</td>\n",
       "      <td>382.206636</td>\n",
       "      <td>2340.597389</td>\n",
       "      <td>0.0</td>\n",
       "      <td>185.895903</td>\n",
       "      <td>330.826066</td>\n",
       "      <td>2551.085649</td>\n",
       "      <td>106.576545</td>\n",
       "      <td>158.165429</td>\n",
       "      <td>611.544277</td>\n",
       "      <td>0.0</td>\n",
       "      <td>0.0</td>\n",
       "      <td>0.494624</td>\n",
       "      <td>0.0</td>\n",
       "      <td>0.505068</td>\n",
       "      <td>0.0</td>\n",
       "      <td>0.000307</td>\n",
       "      <td>0.0</td>\n",
       "      <td>0.0</td>\n",
       "      <td>4.697883</td>\n",
       "      <td>0.000129</td>\n",
       "    </tr>\n",
       "    <tr>\n",
       "      <th>2</th>\n",
       "      <td>2_2014-01-01</td>\n",
       "      <td>2</td>\n",
       "      <td>2014-01-01</td>\n",
       "      <td>25.443</td>\n",
       "      <td>5.074</td>\n",
       "      <td>0</td>\n",
       "      <td>127.790933</td>\n",
       "      <td>1223.640222</td>\n",
       "      <td>-962.435857</td>\n",
       "      <td>1351.521823</td>\n",
       "      <td>1.000000</td>\n",
       "      <td>0.0</td>\n",
       "      <td>318.078852</td>\n",
       "      <td>2351.867856</td>\n",
       "      <td>0.0</td>\n",
       "      <td>188.441645</td>\n",
       "      <td>330.077285</td>\n",
       "      <td>2551.183265</td>\n",
       "      <td>107.104292</td>\n",
       "      <td>153.257656</td>\n",
       "      <td>594.188987</td>\n",
       "      <td>0.0</td>\n",
       "      <td>0.0</td>\n",
       "      <td>0.288343</td>\n",
       "      <td>0.0</td>\n",
       "      <td>0.711657</td>\n",
       "      <td>0.0</td>\n",
       "      <td>0.000000</td>\n",
       "      <td>0.0</td>\n",
       "      <td>0.0</td>\n",
       "      <td>2.488614</td>\n",
       "      <td>0.000398</td>\n",
       "    </tr>\n",
       "    <tr>\n",
       "      <th>3</th>\n",
       "      <td>3_2014-01-01</td>\n",
       "      <td>3</td>\n",
       "      <td>2014-01-01</td>\n",
       "      <td>25.665</td>\n",
       "      <td>5.070</td>\n",
       "      <td>0</td>\n",
       "      <td>136.924571</td>\n",
       "      <td>1201.258784</td>\n",
       "      <td>-961.326298</td>\n",
       "      <td>1338.120278</td>\n",
       "      <td>1.000000</td>\n",
       "      <td>0.0</td>\n",
       "      <td>339.386497</td>\n",
       "      <td>2348.509414</td>\n",
       "      <td>0.0</td>\n",
       "      <td>185.393692</td>\n",
       "      <td>326.942319</td>\n",
       "      <td>2539.815326</td>\n",
       "      <td>101.962346</td>\n",
       "      <td>155.518048</td>\n",
       "      <td>645.362481</td>\n",
       "      <td>0.0</td>\n",
       "      <td>0.0</td>\n",
       "      <td>0.492103</td>\n",
       "      <td>0.0</td>\n",
       "      <td>0.507897</td>\n",
       "      <td>0.0</td>\n",
       "      <td>0.000000</td>\n",
       "      <td>0.0</td>\n",
       "      <td>0.0</td>\n",
       "      <td>2.439959</td>\n",
       "      <td>0.000158</td>\n",
       "    </tr>\n",
       "    <tr>\n",
       "      <th>4</th>\n",
       "      <td>4_2014-01-01</td>\n",
       "      <td>4</td>\n",
       "      <td>2014-01-01</td>\n",
       "      <td>25.886</td>\n",
       "      <td>5.067</td>\n",
       "      <td>0</td>\n",
       "      <td>144.278146</td>\n",
       "      <td>1197.831547</td>\n",
       "      <td>-959.248284</td>\n",
       "      <td>1342.118844</td>\n",
       "      <td>0.998555</td>\n",
       "      <td>0.0</td>\n",
       "      <td>358.043829</td>\n",
       "      <td>2341.881156</td>\n",
       "      <td>0.0</td>\n",
       "      <td>186.275015</td>\n",
       "      <td>327.839976</td>\n",
       "      <td>2549.462252</td>\n",
       "      <td>102.743046</td>\n",
       "      <td>159.865021</td>\n",
       "      <td>660.372381</td>\n",
       "      <td>0.0</td>\n",
       "      <td>0.0</td>\n",
       "      <td>0.333855</td>\n",
       "      <td>0.0</td>\n",
       "      <td>0.666145</td>\n",
       "      <td>0.0</td>\n",
       "      <td>0.000000</td>\n",
       "      <td>0.0</td>\n",
       "      <td>0.0</td>\n",
       "      <td>2.546723</td>\n",
       "      <td>0.000153</td>\n",
       "    </tr>\n",
       "  </tbody>\n",
       "</table>\n",
       "</div>"
      ],
      "text/plain": [
       "             ID  area  ... population_density  precipitation\n",
       "0  0_2014-01-01     0  ...           2.773423       0.000457\n",
       "1  1_2014-01-01     1  ...           4.697883       0.000129\n",
       "2  2_2014-01-01     2  ...           2.488614       0.000398\n",
       "3  3_2014-01-01     3  ...           2.439959       0.000158\n",
       "4  4_2014-01-01     4  ...           2.546723       0.000153\n",
       "\n",
       "[5 rows x 32 columns]"
      ]
     },
     "execution_count": 58,
     "metadata": {
      "tags": []
     },
     "output_type": "execute_result"
    }
   ],
   "source": [
    "# And the test data\n",
    "test.head()"
   ]
  },
  {
   "cell_type": "code",
   "execution_count": 59,
   "metadata": {
    "colab": {
     "base_uri": "https://localhost:8080/",
     "height": 197
    },
    "colab_type": "code",
    "id": "HItSe6MCkyPB",
    "outputId": "da093e72-3ecb-4620-f16d-32cf6c27ee28"
   },
   "outputs": [
    {
     "data": {
      "text/html": [
       "<div>\n",
       "<style scoped>\n",
       "    .dataframe tbody tr th:only-of-type {\n",
       "        vertical-align: middle;\n",
       "    }\n",
       "\n",
       "    .dataframe tbody tr th {\n",
       "        vertical-align: top;\n",
       "    }\n",
       "\n",
       "    .dataframe thead th {\n",
       "        text-align: right;\n",
       "    }\n",
       "</style>\n",
       "<table border=\"1\" class=\"dataframe\">\n",
       "  <thead>\n",
       "    <tr style=\"text-align: right;\">\n",
       "      <th></th>\n",
       "      <th>ID</th>\n",
       "      <th>Prediction</th>\n",
       "    </tr>\n",
       "  </thead>\n",
       "  <tbody>\n",
       "    <tr>\n",
       "      <th>0</th>\n",
       "      <td>0_2014-01-01</td>\n",
       "      <td>0.231968</td>\n",
       "    </tr>\n",
       "    <tr>\n",
       "      <th>1</th>\n",
       "      <td>1_2014-01-01</td>\n",
       "      <td>0.145451</td>\n",
       "    </tr>\n",
       "    <tr>\n",
       "      <th>2</th>\n",
       "      <td>2_2014-01-01</td>\n",
       "      <td>0.430379</td>\n",
       "    </tr>\n",
       "    <tr>\n",
       "      <th>3</th>\n",
       "      <td>3_2014-01-01</td>\n",
       "      <td>0.192679</td>\n",
       "    </tr>\n",
       "    <tr>\n",
       "      <th>4</th>\n",
       "      <td>4_2014-01-01</td>\n",
       "      <td>0.290858</td>\n",
       "    </tr>\n",
       "  </tbody>\n",
       "</table>\n",
       "</div>"
      ],
      "text/plain": [
       "             ID  Prediction\n",
       "0  0_2014-01-01    0.231968\n",
       "1  1_2014-01-01    0.145451\n",
       "2  2_2014-01-01    0.430379\n",
       "3  3_2014-01-01    0.192679\n",
       "4  4_2014-01-01    0.290858"
      ]
     },
     "execution_count": 59,
     "metadata": {
      "tags": []
     },
     "output_type": "execute_result"
    }
   ],
   "source": [
    "# So we need to predict the burn area for each row in test. \n",
    "\n",
    "# Add the same features to test as we did to train:\n",
    "test['month'] = test.date.dt.month\n",
    "test['year'] = test.date.dt.year\n",
    "\n",
    "# Get predictions\n",
    "preds = rModel.predict(test[in_cols].fillna(0)) # fillna(0) here could be improved by examining the missing data and filling more appropriately.\n",
    "\n",
    "# Add to submission dataframe\n",
    "ss['Prediction'] = preds\n",
    "\n",
    "# View\n",
    "ss.head()"
   ]
  },
  {
   "cell_type": "code",
   "execution_count": 60,
   "metadata": {
    "colab": {
     "base_uri": "https://localhost:8080/",
     "height": 197
    },
    "colab_type": "code",
    "id": "2yDbOR-Dla0H",
    "outputId": "d017e7f5-ecc7-4edf-d078-9e8c8e526ee9"
   },
   "outputs": [
    {
     "data": {
      "text/html": [
       "<div>\n",
       "<style scoped>\n",
       "    .dataframe tbody tr th:only-of-type {\n",
       "        vertical-align: middle;\n",
       "    }\n",
       "\n",
       "    .dataframe tbody tr th {\n",
       "        vertical-align: top;\n",
       "    }\n",
       "\n",
       "    .dataframe thead th {\n",
       "        text-align: right;\n",
       "    }\n",
       "</style>\n",
       "<table border=\"1\" class=\"dataframe\">\n",
       "  <thead>\n",
       "    <tr style=\"text-align: right;\">\n",
       "      <th></th>\n",
       "      <th>ID</th>\n",
       "      <th>Prediction</th>\n",
       "    </tr>\n",
       "  </thead>\n",
       "  <tbody>\n",
       "    <tr>\n",
       "      <th>137551</th>\n",
       "      <td>3816_2016-12-01</td>\n",
       "      <td>0.000021</td>\n",
       "    </tr>\n",
       "    <tr>\n",
       "      <th>137552</th>\n",
       "      <td>3817_2016-12-01</td>\n",
       "      <td>0.000018</td>\n",
       "    </tr>\n",
       "    <tr>\n",
       "      <th>137553</th>\n",
       "      <td>3818_2016-12-01</td>\n",
       "      <td>0.000602</td>\n",
       "    </tr>\n",
       "    <tr>\n",
       "      <th>137554</th>\n",
       "      <td>3819_2016-12-01</td>\n",
       "      <td>0.052119</td>\n",
       "    </tr>\n",
       "    <tr>\n",
       "      <th>137555</th>\n",
       "      <td>3820_2016-12-01</td>\n",
       "      <td>0.000018</td>\n",
       "    </tr>\n",
       "  </tbody>\n",
       "</table>\n",
       "</div>"
      ],
      "text/plain": [
       "                     ID  Prediction\n",
       "137551  3816_2016-12-01    0.000021\n",
       "137552  3817_2016-12-01    0.000018\n",
       "137553  3818_2016-12-01    0.000602\n",
       "137554  3819_2016-12-01    0.052119\n",
       "137555  3820_2016-12-01    0.000018"
      ]
     },
     "execution_count": 60,
     "metadata": {
      "tags": []
     },
     "output_type": "execute_result"
    }
   ],
   "source": [
    "ss.tail()"
   ]
  },
  {
   "cell_type": "code",
   "execution_count": 0,
   "metadata": {
    "colab": {},
    "colab_type": "code",
    "id": "Of1P0EtQruwg"
   },
   "outputs": [],
   "source": [
    "#test.mean().reset_index().plot(y='burn_area', x='preds', kind='bar')"
   ]
  },
  {
   "cell_type": "code",
   "execution_count": 0,
   "metadata": {
    "colab": {},
    "colab_type": "code",
    "id": "13Ns-f5blIEs"
   },
   "outputs": [],
   "source": [
    "# Save ready for submission:\n",
    "ss.to_csv('/content/drive/My Drive/zindi/SampleSubmissionOG.csv', index=False)"
   ]
  }
 ],
 "metadata": {
  "accelerator": "GPU",
  "colab": {
   "collapsed_sections": [],
   "name": "UmojaHack: Hotspots.ipynb",
   "provenance": [],
   "toc_visible": true
  },
  "kernelspec": {
   "display_name": "Python 3",
   "language": "python",
   "name": "python3"
  },
  "language_info": {
   "codemirror_mode": {
    "name": "ipython",
    "version": 3
   },
   "file_extension": ".py",
   "mimetype": "text/x-python",
   "name": "python",
   "nbconvert_exporter": "python",
   "pygments_lexer": "ipython3",
   "version": "3.7.6"
  }
 },
 "nbformat": 4,
 "nbformat_minor": 1
}
